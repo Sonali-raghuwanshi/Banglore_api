{
 "cells": [
  {
   "cell_type": "code",
   "execution_count": 2,
   "id": "982685fc",
   "metadata": {},
   "outputs": [
    {
     "name": "stdout",
     "output_type": "stream",
     "text": [
      "honey\n",
      "verma\n",
      "verma honey\n"
     ]
    }
   ],
   "source": [
    "#Q1: Write a Python program which accepts the user's first and last name and print them in \n",
    "#reverse order with a space between them.\n",
    "#Example: input: Honey Verma    output: Verma Honey\n",
    "fname = input()\n",
    "lname = input()\n",
    "print(lname, fname)"
   ]
  },
  {
   "cell_type": "code",
   "execution_count": 5,
   "id": "084a7371",
   "metadata": {},
   "outputs": [
    {
     "name": "stdout",
     "output_type": "stream",
     "text": [
      "6\n",
      "113.03999999999999\n"
     ]
    }
   ],
   "source": [
    "#Q2: Write a Python program which accepts the radius of a circle from the user and compute the area.\n",
    "r = float(input())\n",
    "areaOfCircle = 3.14*r*r\n",
    "print(areaOfCircle)"
   ]
  },
  {
   "cell_type": "code",
   "execution_count": 6,
   "id": "d6f0b3f8",
   "metadata": {},
   "outputs": [
    {
     "name": "stdout",
     "output_type": "stream",
     "text": [
      "508.68\n"
     ]
    }
   ],
   "source": [
    "#Q3: Write a Python program to get the volume of a sphere with radius 6.\n",
    "r = 6\n",
    "v = (3/4)*3.14*r*r*r\n",
    "print(v)"
   ]
  },
  {
   "cell_type": "code",
   "execution_count": 9,
   "id": "d953325c",
   "metadata": {},
   "outputs": [
    {
     "name": "stdout",
     "output_type": "stream",
     "text": [
      "950\n",
      "True\n"
     ]
    }
   ],
   "source": [
    "#Q4: Write a Python program to return true if a number is within \n",
    "#50 of 1000 or 2000. entered number should be less than 2000.\n",
    "n = int(input())\n",
    "if n<2000:\n",
    "    if 1000 - n <= 50 or 2000 - n <= 50:\n",
    "        print(\"True\")\n",
    "    else:\n",
    "        print(\"False\")   "
   ]
  },
  {
   "cell_type": "code",
   "execution_count": 14,
   "id": "44d8c855",
   "metadata": {},
   "outputs": [
    {
     "name": "stdout",
     "output_type": "stream",
     "text": [
      "34\n",
      "2\n",
      "45\n",
      "Complex Roots\n",
      "-0.029411764705882353  + i 37405456\n",
      "-0.029411764705882353  - i 37405456\n"
     ]
    }
   ],
   "source": [
    "#Q5: Write a program computes roots of a quadratic equation when coefficients a, b and c are given by user.\n",
    "a = int(input())\n",
    "b = int(input())\n",
    "c = int(input())\n",
    "\n",
    "# calculate the discriminant\n",
    "d = (b**2) - (4*a*c)\n",
    "sqrt_val = d**2 \n",
    "\n",
    "\n",
    "if a == 0: \n",
    "    print(\"Input correct quadratic equation\") \n",
    "else:\n",
    "    if d > 0: \n",
    "        print(\"real and different roots \") \n",
    "        print((-b + sqrt_val)/(2 * a)) \n",
    "        print((-b - sqrt_val)/(2 * a)) \n",
    "\n",
    "    elif d == 0: \n",
    "        print(\" real and same roots\") \n",
    "        print(-b / (2 * a)) \n",
    "\n",
    "    else:\n",
    "        print(\"Complex Roots\") \n",
    "        print(- b / (2 * a), \" + i\", sqrt_val) \n",
    "        print(- b / (2 * a), \" - i\", sqrt_val) "
   ]
  },
  {
   "cell_type": "code",
   "execution_count": 15,
   "id": "1f8fab5c",
   "metadata": {},
   "outputs": [
    {
     "name": "stdout",
     "output_type": "stream",
     "text": [
      "Enter a year: 2000\n",
      "2000 is a leap year\n"
     ]
    }
   ],
   "source": [
    "##Q6: Write a program to check if year is a leap year or not\n",
    "year = int(input(\"Enter a year: \"))\n",
    "\n",
    "if (year % 4) == 0:\n",
    "   if (year % 100) == 0:\n",
    "       if (year % 400) == 0:\n",
    "           print(\"{0} is a leap year\".format(year))\n",
    "       else:\n",
    "           print(\"{0} is not a leap year\".format(year))\n",
    "   else:\n",
    "       print(\"{0} is a leap year\".format(year))\n",
    "else:\n",
    "   print(\"{0} is not a leap year\".format(year))"
   ]
  },
  {
   "cell_type": "code",
   "execution_count": 16,
   "id": "0fee2b39",
   "metadata": {},
   "outputs": [
    {
     "name": "stdout",
     "output_type": "stream",
     "text": [
      "How many terms? 4\n",
      "Fibonacci sequence:\n",
      "0\n",
      "1\n",
      "1\n",
      "2\n"
     ]
    }
   ],
   "source": [
    "#Q7: Program to display the Fibonacci sequence up to n-th term\n",
    "nterms = int(input(\"How many terms? \"))\n",
    "\n",
    "# first two terms\n",
    "n1, n2 = 0, 1\n",
    "count = 0\n",
    "\n",
    "# check if the number of terms is valid\n",
    "if nterms <= 0:\n",
    "   print(\"Please enter a positive integer\")\n",
    "# if there is only one term, return n1\n",
    "elif nterms == 1:\n",
    "   print(\"Fibonacci sequence upto\",nterms,\":\")\n",
    "   print(n1)\n",
    "# generate fibonacci sequence\n",
    "else:\n",
    "   print(\"Fibonacci sequence:\")\n",
    "   while count < nterms:\n",
    "       print(n1)\n",
    "       nth = n1 + n2\n",
    "       # update values\n",
    "       n1 = n2\n",
    "       n2 = nth\n",
    "       count += 1"
   ]
  },
  {
   "cell_type": "code",
   "execution_count": 20,
   "id": "43fe4e83",
   "metadata": {},
   "outputs": [
    {
     "name": "stdout",
     "output_type": "stream",
     "text": [
      "Please Enter any Number: 4\n",
      "Factors of a Given Number  4  are:\n",
      "1\n",
      "2\n",
      "4\n"
     ]
    }
   ],
   "source": [
    "#8: Write a program to find the factors of a number\n",
    "\n",
    "number = int(input(\"Please Enter any Number: \"))\n",
    "\n",
    "value = 1\n",
    "print(\"Factors of a Given Number \",number, \" are:\")\n",
    "\n",
    "while (value <= number):\n",
    "    if(number % value == 0):\n",
    "        print(value)\n",
    "    value = value + 1"
   ]
  }
 ],
 "metadata": {
  "kernelspec": {
   "display_name": "Python 3",
   "language": "python",
   "name": "python3"
  },
  "language_info": {
   "codemirror_mode": {
    "name": "ipython",
    "version": 3
   },
   "file_extension": ".py",
   "mimetype": "text/x-python",
   "name": "python",
   "nbconvert_exporter": "python",
   "pygments_lexer": "ipython3",
   "version": "3.8.3"
  }
 },
 "nbformat": 4,
 "nbformat_minor": 5
}
